{
 "cells": [
  {
   "cell_type": "markdown",
   "metadata": {},
   "source": [
    "Selection of a diverse corpus for SDRF-Proteomics:\n",
    "1. Different journals = different style of writing\n",
    "    High impact journals: Nature, MCP\n",
    "    Proteomics focused: JPR\n",
    "    Technical: Nature Methods, Analytical Chemistry\n",
    "2. Different labelling:\n",
    "    LFQ, TMT, SILAC\n",
    "3. One experiment vs multiple experiments"
   ]
  },
  {
   "cell_type": "code",
   "execution_count": 1,
   "metadata": {},
   "outputs": [],
   "source": [
    "from Bio import Entrez\n",
    "\n",
    "def fetch_journal_from_pmid(pmid_list, email=\"tineclae.claeys@ugent.be\"):\n",
    "    \"\"\"Fetches journal names for a list of PubMed IDs.\"\"\"\n",
    "    Entrez.email = email  # Required by NCBI\n",
    "    \n",
    "    journals = {}\n",
    "    for pmid in pmid_list:\n",
    "        try:\n",
    "            handle = Entrez.efetch(db=\"pubmed\", id=pmid, rettype=\"medline\", retmode=\"text\")\n",
    "            records = handle.read()\n",
    "            handle.close()\n",
    "            \n",
    "            # Extract journal name\n",
    "            for line in records.split(\"\\n\"):\n",
    "                if line.startswith(\"JT  - \"):  # Journal title line\n",
    "                    journal_name = line.replace(\"JT  - \", \"\").strip()\n",
    "                    journals[pmid] = journal_name\n",
    "                    break\n",
    "        except Exception as e:\n",
    "            print(f\"Error fetching PMID {pmid}: {e}\")\n",
    "            journals[pmid] = None  # Mark as None if fetching fails\n",
    "\n",
    "    return journals\n"
   ]
  },
  {
   "cell_type": "code",
   "execution_count": 2,
   "metadata": {},
   "outputs": [
    {
     "name": "stdout",
     "output_type": "stream",
     "text": [
      "{'35121989': 'Nature cancer', '36653852': 'Acta neuropathologica communications', '36292738': 'Genes', '36499720': 'International journal of molecular sciences', '32785189': 'Biomedicines', '31816881': 'Microorganisms', '34128081': 'Acta neuropathologica', '37266577': 'eLife', '37301900': 'Communications biology', '36240066': 'The Biochemical journal', '35680998': 'Nature ecology & evolution', '32817103': 'mBio', '32095117': 'Cancer cell international', '35236848': 'Nature communications', '28675934': 'Journal of proteome research', '26076430': 'Nature biotechnology', '36982475': 'International journal of molecular sciences', '37834386': 'International journal of molecular sciences', '37778379': 'Philosophical transactions of the Royal Society of London. Series B, Biological', '36979426': 'Biomolecules', '28071813': 'Journal of orthopaedic research : official publication of the Orthopaedic', '28439285': 'Frontiers in plant science', '35677457': 'Data in brief', '36220102': 'Molecular cell', '28680058': 'Nature communications', '31862015': 'Acta neuropathologica communications', '35131898': 'Proceedings of the National Academy of Sciences of the United States of America', '35963242': 'Current biology : CB', '28054942': 'International journal of molecular sciences', '36426076': 'Data in brief', '36741463': 'PNAS nexus', '32860207': 'Cellular oncology (Dordrecht, Netherlands)', '30814501': 'Nature communications', '31699905': 'Molecular & cellular proteomics : MCP', '31395880': 'Nature communications', '36983784': 'Life (Basel, Switzerland)', '37063823': 'Frontiers in immunology', '34576262': 'International journal of molecular sciences', '34360674': 'International journal of molecular sciences', '37330510': 'Nature communications', '35037038': 'Nucleic acids research', '37280269': 'Scientific reports', '35425721': 'Frontiers in cellular and infection microbiology', '34383828': 'PloS one', '21183079': 'Cell', '28424693': 'Frontiers in immunology', '34604665': 'ACS omega', '31699904': 'Molecular & cellular proteomics : MCP', '34572998': 'Antioxidants (Basel, Switzerland)', '37094092': 'Journal of experimental botany', '32877642': 'Molecular cell', '37293069': 'bioRxiv : the preprint server for biology', '29681787': 'Clinical proteomics', '35852874': 'JCI insight', '37047404': 'International journal of molecular sciences', '31316139': 'Scientific reports', '30728824': 'Frontiers in immunology', '27068479': 'Scientific reports', '32284562': 'Nature microbiology', '28091603': 'Nature communications', '35402076': 'Molecular therapy. Nucleic acids', '37681923': 'Cells', '34416233': 'The Journal of biological chemistry', '36097293': 'Nature structural & molecular biology', '26725330': 'Nature communications', '36980356': 'Diagnostics (Basel, Switzerland)', '26149123': 'Nature communications', '33855848': 'Journal of proteome research', '24657495': 'Journal of proteomics', '30794532': 'PLoS biology', '37207340': 'Nucleic acids research', '37854702': 'iScience', '26731301': 'Scientific data', '36674559': 'International journal of molecular sciences', '35709300': 'PLoS pathogens', '36212541': 'Computational and structural biotechnology journal', '37611092': 'Science advances', '36702456': 'Bioinformatics (Oxford, England)', '25100859': 'Molecular & cellular proteomics : MCP', '37774976': 'The Journal of biological chemistry', '34723797': 'eLife', '36604600': 'Communications biology', '30594554': 'EBioMedicine', '35236989': 'Nature', '31642809': 'eLife', '33266304': 'International journal of molecular sciences', '25218447': 'Nature structural & molecular biology', '33918763': 'Molecules (Basel, Switzerland)', '37374181': 'Life (Basel, Switzerland)', '36269744': 'PloS one', '37328468': 'Nature communications', '26609137': 'Toxicological sciences : an official journal of the Society of Toxicology', '31075098': 'PLoS biology', '31733513': 'iScience', '33630598': 'Journal of proteome research', '27102203': 'Genome medicine', '28709472': 'Microbiome', '36089606': 'Clinical epigenetics', '34138841': 'PLoS biology', '26112675': 'BMC plant biology', '37253964': 'Scientific reports', '31185456': 'iScience'}\n"
     ]
    }
   ],
   "source": [
    "import os\n",
    "ann_folder = \"/home/compomics/git/Eubic_Dev_hackathon_2025/Combined_all/open_access\"\n",
    "ann_files = [f for f in os.listdir(ann_folder) if f.endswith('.ann')]\n",
    "pmid_list = [f.split('.')[0] for f in ann_files]\n",
    "\n",
    "journal_info = fetch_journal_from_pmid(pmid_list)\n",
    "print(journal_info)\n"
   ]
  },
  {
   "cell_type": "code",
   "execution_count": 12,
   "metadata": {},
   "outputs": [
    {
     "name": "stdout",
     "output_type": "stream",
     "text": [
      "{'Journal of orthopaedic research : official publication of the Orthopaedic', 'eLife', 'Acta neuropathologica', 'Nature', 'Current biology : CB', 'Frontiers in immunology', 'International journal of molecular sciences', 'Molecular & cellular proteomics : MCP', 'Scientific data', 'Computational and structural biotechnology journal', 'Antioxidants (Basel, Switzerland)', 'Microbiome', 'Microorganisms', 'Cellular oncology (Dordrecht, Netherlands)', 'Cells', 'Genome medicine', 'mBio', 'PloS one', 'Nature ecology & evolution', 'Nature microbiology', 'Molecular therapy. Nucleic acids', 'Journal of proteomics', 'Clinical proteomics', 'Nature cancer', 'Toxicological sciences : an official journal of the Society of Toxicology', 'Proceedings of the National Academy of Sciences of the United States of America', 'Frontiers in cellular and infection microbiology', 'JCI insight', 'Biomedicines', 'bioRxiv : the preprint server for biology', 'Science advances', 'The Biochemical journal', 'Bioinformatics (Oxford, England)', 'Data in brief', 'Genes', 'Frontiers in plant science', 'Journal of experimental botany', 'Nature communications', 'Life (Basel, Switzerland)', 'PNAS nexus', 'Nature structural & molecular biology', 'BMC plant biology', 'Cell', 'Biomolecules', 'PLoS pathogens', 'ACS omega', 'iScience', 'Nature biotechnology', 'Diagnostics (Basel, Switzerland)', 'Journal of proteome research', 'PLoS biology', 'Cancer cell international', 'The Journal of biological chemistry', 'Molecules (Basel, Switzerland)', 'Clinical epigenetics', 'Philosophical transactions of the Royal Society of London. Series B, Biological', 'Scientific reports', 'EBioMedicine', 'Communications biology', 'Molecular cell', 'Acta neuropathologica communications', 'Nucleic acids research'}\n"
     ]
    }
   ],
   "source": [
    "print(set(list(journal_info.values())))\n"
   ]
  },
  {
   "cell_type": "code",
   "execution_count": 36,
   "metadata": {},
   "outputs": [
    {
     "name": "stdout",
     "output_type": "stream",
     "text": [
      "This accounts for a total of 29 papers\n",
      "29\n"
     ]
    }
   ],
   "source": [
    "from collections import Counter\n",
    "import pandas as pd\n",
    "\n",
    "\n",
    "journal_selection = ['Nature', 'JPR', 'Journal of proteome research', 'MCP', 'Molecular & cellular proteomics', 'Proteomics', 'Cell', 'Protein', 'Journal of proteomics', 'Clinical proteomics', 'Nucleic acids research']\n",
    "\n",
    "# Select from journal all journals that mention any word in journal_selection even a substring\n",
    "selected_journals = {k: v for k, v in journal_info.items() if any(j in v for j in journal_selection)}\n",
    "value_counts = Counter(selected_journals.values())\n",
    "selectiondf = pd.DataFrame(value_counts.items(), columns=[\"Journal\", \"Count\"]).sort_values(\"Count\", ascending=False)\n",
    "print(f\"This accounts for a total of {selectiondf.Count.sum()} papers\")\n",
    "\n",
    "#find key values in journal_info that match a journal in selectiondf.Journal\n",
    "to_annotate = []\n",
    "for k,v in journal_info.items():\n",
    "    if v in selectiondf.Journal.tolist():\n",
    "        to_annotate.append(k)\n",
    "print(len(to_annotate))"
   ]
  },
  {
   "cell_type": "code",
   "execution_count": 37,
   "metadata": {},
   "outputs": [
    {
     "name": "stdout",
     "output_type": "stream",
     "text": [
      "{'/home/compomics/git/Eubic_Dev_hackathon_2025/Unique_PRIDE/35680998.ann': 0, '/home/compomics/git/Eubic_Dev_hackathon_2025/Unique_PRIDE/35236848.ann': 0, '/home/compomics/git/Eubic_Dev_hackathon_2025/Unique_PRIDE/37330510.ann': 0, '/home/compomics/git/Eubic_Dev_hackathon_2025/Unique_PRIDE/35037038.ann': 0, '/home/compomics/git/Eubic_Dev_hackathon_2025/Unique_PRIDE/21183079.ann': 0, '/home/compomics/git/Eubic_Dev_hackathon_2025/Unique_PRIDE/37681923.ann': 0, '/home/compomics/git/Eubic_Dev_hackathon_2025/Unique_PRIDE/36097293.ann': 0, '/home/compomics/git/Eubic_Dev_hackathon_2025/Unique_PRIDE/26725330.ann': 0, '/home/compomics/git/Eubic_Dev_hackathon_2025/Unique_PRIDE/37207340.ann': 0, '/home/compomics/git/Eubic_Dev_hackathon_2025/Unique_PRIDE/35236989.ann': 0, '/home/compomics/git/Eubic_Dev_hackathon_2025/Unique_PRIDE/37328468.ann': 0, '/home/compomics/git/Eubic_Dev_hackathon_2025/Unique_PRIDE/33630598.ann': 0, '/home/compomics/git/Eubic_Dev_hackathon_2025/Unique_github/35121989.ann': 0, '/home/compomics/git/Eubic_Dev_hackathon_2025/Unique_github/28675934.ann': 0, '/home/compomics/git/Eubic_Dev_hackathon_2025/Unique_github/26076430.ann': 0, '/home/compomics/git/Eubic_Dev_hackathon_2025/Unique_github/28680058.ann': 0, '/home/compomics/git/Eubic_Dev_hackathon_2025/Unique_github/32860207.ann': 0, '/home/compomics/git/Eubic_Dev_hackathon_2025/Unique_github/30814501.ann': 0, '/home/compomics/git/Eubic_Dev_hackathon_2025/Unique_github/31699905.ann': 0, '/home/compomics/git/Eubic_Dev_hackathon_2025/Unique_github/31395880.ann': 0, '/home/compomics/git/Eubic_Dev_hackathon_2025/Unique_github/31699904.ann': 0, '/home/compomics/git/Eubic_Dev_hackathon_2025/Unique_github/29681787.ann': 0, '/home/compomics/git/Eubic_Dev_hackathon_2025/Unique_github/32284562.ann': 0, '/home/compomics/git/Eubic_Dev_hackathon_2025/Unique_github/28091603.ann': 0, '/home/compomics/git/Eubic_Dev_hackathon_2025/Unique_github/26149123.ann': 0, '/home/compomics/git/Eubic_Dev_hackathon_2025/Unique_github/33855848.ann': 0, '/home/compomics/git/Eubic_Dev_hackathon_2025/Unique_github/24657495.ann': 0, '/home/compomics/git/Eubic_Dev_hackathon_2025/Unique_github/25100859.ann': 0, '/home/compomics/git/Eubic_Dev_hackathon_2025/Unique_github/25218447.ann': 0, '/home/compomics/git/Eubic_Dev_hackathon_2025/Combined_all/open_access/35121989.ann': 0, '/home/compomics/git/Eubic_Dev_hackathon_2025/Combined_all/open_access/35680998.ann': 0, '/home/compomics/git/Eubic_Dev_hackathon_2025/Combined_all/open_access/35236848.ann': 0, '/home/compomics/git/Eubic_Dev_hackathon_2025/Combined_all/open_access/28675934.ann': 0, '/home/compomics/git/Eubic_Dev_hackathon_2025/Combined_all/open_access/26076430.ann': 0, '/home/compomics/git/Eubic_Dev_hackathon_2025/Combined_all/open_access/28680058.ann': 0, '/home/compomics/git/Eubic_Dev_hackathon_2025/Combined_all/open_access/32860207.ann': 0, '/home/compomics/git/Eubic_Dev_hackathon_2025/Combined_all/open_access/30814501.ann': 0, '/home/compomics/git/Eubic_Dev_hackathon_2025/Combined_all/open_access/31699905.ann': 0, '/home/compomics/git/Eubic_Dev_hackathon_2025/Combined_all/open_access/31395880.ann': 0, '/home/compomics/git/Eubic_Dev_hackathon_2025/Combined_all/open_access/37330510.ann': 0, '/home/compomics/git/Eubic_Dev_hackathon_2025/Combined_all/open_access/35037038.ann': 0, '/home/compomics/git/Eubic_Dev_hackathon_2025/Combined_all/open_access/21183079.ann': 0, '/home/compomics/git/Eubic_Dev_hackathon_2025/Combined_all/open_access/31699904.ann': 0, '/home/compomics/git/Eubic_Dev_hackathon_2025/Combined_all/open_access/29681787.ann': 0, '/home/compomics/git/Eubic_Dev_hackathon_2025/Combined_all/open_access/32284562.ann': 0, '/home/compomics/git/Eubic_Dev_hackathon_2025/Combined_all/open_access/28091603.ann': 0, '/home/compomics/git/Eubic_Dev_hackathon_2025/Combined_all/open_access/37681923.ann': 0, '/home/compomics/git/Eubic_Dev_hackathon_2025/Combined_all/open_access/36097293.ann': 0, '/home/compomics/git/Eubic_Dev_hackathon_2025/Combined_all/open_access/26725330.ann': 0, '/home/compomics/git/Eubic_Dev_hackathon_2025/Combined_all/open_access/26149123.ann': 0, '/home/compomics/git/Eubic_Dev_hackathon_2025/Combined_all/open_access/33855848.ann': 0, '/home/compomics/git/Eubic_Dev_hackathon_2025/Combined_all/open_access/24657495.ann': 0, '/home/compomics/git/Eubic_Dev_hackathon_2025/Combined_all/open_access/37207340.ann': 0, '/home/compomics/git/Eubic_Dev_hackathon_2025/Combined_all/open_access/25100859.ann': 0, '/home/compomics/git/Eubic_Dev_hackathon_2025/Combined_all/open_access/35236989.ann': 0, '/home/compomics/git/Eubic_Dev_hackathon_2025/Combined_all/open_access/25218447.ann': 0, '/home/compomics/git/Eubic_Dev_hackathon_2025/Combined_all/open_access/37328468.ann': 0, '/home/compomics/git/Eubic_Dev_hackathon_2025/Combined_all/open_access/33630598.ann': 0, '/home/compomics/git/Eubic_Dev_hackathon_2025/hackathon/annotator_agreement/Tim/batch47/28680058.ann': 0, '/home/compomics/git/Eubic_Dev_hackathon_2025/hackathon/annotator_agreement/Tim/batch31/26076430.ann': 0, '/home/compomics/git/Eubic_Dev_hackathon_2025/hackathon/annotator_agreement/Tim/batch31/37207340.ann': 0, '/home/compomics/git/Eubic_Dev_hackathon_2025/hackathon/annotator_agreement/Veit/batch6/31699905.ann': 0, '/home/compomics/git/Eubic_Dev_hackathon_2025/hackathon/annotator_agreement/Veit/batch22/26725330.ann': 0, '/home/compomics/git/Eubic_Dev_hackathon_2025/hackathon/annotator_agreement/Veit/batch38/25218447.ann': 0, '/home/compomics/git/Eubic_Dev_hackathon_2025/hackathon/annotator_agreement/Dirk/batch17/35236989.ann': 0, '/home/compomics/git/Eubic_Dev_hackathon_2025/hackathon/annotator_agreement/Dirk/batch49/37681923.ann': 0, '/home/compomics/git/Eubic_Dev_hackathon_2025/hackathon/annotator_agreement/Dirk/batch49/25100859.ann': 0, '/home/compomics/git/Eubic_Dev_hackathon_2025/hackathon/annotator_agreement/Dirk/batch33/32284562.ann': 0, '/home/compomics/git/Eubic_Dev_hackathon_2025/hackathon/annotator_agreement/Maike/batch7/35037038.ann': 0, '/home/compomics/git/Eubic_Dev_hackathon_2025/hackathon/annotator_agreement/Maike/batch23/26725330.ann': 0, '/home/compomics/git/Eubic_Dev_hackathon_2025/hackathon/annotator_agreement/Maike/batch39/28091603.ann': 0, '/home/compomics/git/Eubic_Dev_hackathon_2025/hackathon/annotator_agreement/Lev/batch3/29681787.ann': 0, '/home/compomics/git/Eubic_Dev_hackathon_2025/hackathon/annotator_agreement/Lev/batch3/26149123.ann': 0, '/home/compomics/git/Eubic_Dev_hackathon_2025/hackathon/annotator_agreement/Lev/batch19/35121989.ann': 0, '/home/compomics/git/Eubic_Dev_hackathon_2025/hackathon/annotator_agreement/Lev/batch19/35236989.ann': 0, '/home/compomics/git/Eubic_Dev_hackathon_2025/hackathon/annotator_agreement/Lev/batch35/31395880.ann': 0, '/home/compomics/git/Eubic_Dev_hackathon_2025/hackathon/annotator_agreement/Lev/batch35/37330510.ann': 0, '/home/compomics/git/Eubic_Dev_hackathon_2025/hackathon/annotator_agreement/Samuel/batch8/35037038.ann': 0, '/home/compomics/git/Eubic_Dev_hackathon_2025/hackathon/annotator_agreement/Samuel/batch40/21183079.ann': 0, '/home/compomics/git/Eubic_Dev_hackathon_2025/hackathon/annotator_agreement/Samuel/batch40/28091603.ann': 0, '/home/compomics/git/Eubic_Dev_hackathon_2025/hackathon/annotator_agreement/Samuel/batch24/36097293.ann': 0, '/home/compomics/git/Eubic_Dev_hackathon_2025/hackathon/annotator_agreement/Samuel/batch24/26725330.ann': 0, '/home/compomics/git/Eubic_Dev_hackathon_2025/hackathon/annotator_agreement/Magnus/batch20/35121989.ann': 4564, '/home/compomics/git/Eubic_Dev_hackathon_2025/hackathon/annotator_agreement/Magnus/batch4/29681787.ann': 0, '/home/compomics/git/Eubic_Dev_hackathon_2025/hackathon/annotator_agreement/Magnus/batch4/26149123.ann': 0, '/home/compomics/git/Eubic_Dev_hackathon_2025/hackathon/annotator_agreement/Magnus/batch36/31395880.ann': 0, '/home/compomics/git/Eubic_Dev_hackathon_2025/hackathon/annotator_agreement/Magnus/batch36/24657495.ann': 0, '/home/compomics/git/Eubic_Dev_hackathon_2025/hackathon/annotator_agreement/Julian/batch2/26149123.ann': 0, '/home/compomics/git/Eubic_Dev_hackathon_2025/hackathon/annotator_agreement/Julian/batch34/37330510.ann': 0, '/home/compomics/git/Eubic_Dev_hackathon_2025/hackathon/annotator_agreement/Julian/batch34/32284562.ann': 0, '/home/compomics/git/Eubic_Dev_hackathon_2025/hackathon/annotator_agreement/Julian/batch18/35236989.ann': 0, '/home/compomics/git/Eubic_Dev_hackathon_2025/hackathon/annotator_agreement/Marta/batch25/36097293.ann': 0, '/home/compomics/git/Eubic_Dev_hackathon_2025/hackathon/annotator_agreement/Marta/batch41/21183079.ann': 0, '/home/compomics/git/Eubic_Dev_hackathon_2025/hackathon/annotator_agreement/Marta/batch9/30814501.ann': 702, '/home/compomics/git/Eubic_Dev_hackathon_2025/hackathon/annotator_agreement/Marta/batch9/35037038.ann': 0, '/home/compomics/git/Eubic_Dev_hackathon_2025/hackathon/annotator_agreement/Hari/batch30/26076430.ann': 0, '/home/compomics/git/Eubic_Dev_hackathon_2025/hackathon/annotator_agreement/Hari/batch30/37207340.ann': 0, '/home/compomics/git/Eubic_Dev_hackathon_2025/hackathon/annotator_agreement/Hari/batch14/33630598.ann': 0, '/home/compomics/git/Eubic_Dev_hackathon_2025/hackathon/annotator_agreement/Hari/batch46/28680058.ann': 0, '/home/compomics/git/Eubic_Dev_hackathon_2025/hackathon/annotator_agreement/Hari/batch46/32860207.ann': 0, '/home/compomics/git/Eubic_Dev_hackathon_2025/hackathon/annotator_agreement/Tobias/batch11/30814501.ann': 0, '/home/compomics/git/Eubic_Dev_hackathon_2025/hackathon/annotator_agreement/Tobias/batch11/33855848.ann': 0, '/home/compomics/git/Eubic_Dev_hackathon_2025/hackathon/annotator_agreement/Tobias/batch11/37328468.ann': 0, '/home/compomics/git/Eubic_Dev_hackathon_2025/hackathon/annotator_agreement/Tobias/batch27/28675934.ann': 0, '/home/compomics/git/Eubic_Dev_hackathon_2025/hackathon/annotator_agreement/Tobias/batch43/35680998.ann': 0, '/home/compomics/git/Eubic_Dev_hackathon_2025/hackathon/annotator_agreement/Armin/batch12/33855848.ann': 0, '/home/compomics/git/Eubic_Dev_hackathon_2025/hackathon/annotator_agreement/Armin/batch12/37328468.ann': 0, '/home/compomics/git/Eubic_Dev_hackathon_2025/hackathon/annotator_agreement/Armin/batch28/28675934.ann': 0, '/home/compomics/git/Eubic_Dev_hackathon_2025/hackathon/annotator_agreement/Armin/batch28/31699904.ann': 0, '/home/compomics/git/Eubic_Dev_hackathon_2025/hackathon/annotator_agreement/Armin/batch44/35680998.ann': 0, '/home/compomics/git/Eubic_Dev_hackathon_2025/hackathon/annotator_agreement/Armin/batch44/35236848.ann': 0, '/home/compomics/git/Eubic_Dev_hackathon_2025/hackathon/annotator_agreement/Tine/batch5/31699905.ann': 0, '/home/compomics/git/Eubic_Dev_hackathon_2025/hackathon/annotator_agreement/Tine/batch37/24657495.ann': 1701, '/home/compomics/git/Eubic_Dev_hackathon_2025/hackathon/annotator_agreement/Tine/batch37/25218447.ann': 0, '/home/compomics/git/Eubic_Dev_hackathon_2025/hackathon/annotator_agreement/Tine/batch21/35121989.ann': 1047, '/home/compomics/git/Eubic_Dev_hackathon_2025/hackathon/annotator_agreement/Ana/batch48/37681923.ann': 0, '/home/compomics/git/Eubic_Dev_hackathon_2025/hackathon/annotator_agreement/Natalia/batch45/35236848.ann': 0, '/home/compomics/git/Eubic_Dev_hackathon_2025/hackathon/annotator_agreement/Natalia/batch45/32860207.ann': 0, '/home/compomics/git/Eubic_Dev_hackathon_2025/hackathon/annotator_agreement/Natalia/batch29/31699904.ann': 0, '/home/compomics/git/Eubic_Dev_hackathon_2025/hackathon/annotator_agreement/Natalia/batch29/37207340.ann': 0, '/home/compomics/git/Eubic_Dev_hackathon_2025/hackathon/annotator_agreement/Natalia/batch13/37328468.ann': 0, '/home/compomics/git/Eubic_Dev_hackathon_2025/hackathon/annotator_agreement/Natalia/batch13/33630598.ann': 0, '/home/compomics/git/Eubic_Dev_hackathon_2025/hackathon/annotator_agreement/Karolina/batch42/35680998.ann': 1401, '/home/compomics/git/Eubic_Dev_hackathon_2025/hackathon/annotator_agreement/Karolina/batch42/21183079.ann': 0, '/home/compomics/git/Eubic_Dev_hackathon_2025/hackathon/annotator_agreement/Karolina/batch26/28675934.ann': 1636, '/home/compomics/git/Eubic_Dev_hackathon_2025/hackathon/annotator_agreement/Karolina/batch26/36097293.ann': 758, '/home/compomics/git/Eubic_Dev_hackathon_2025/hackathon/annotator_agreement/Karolina/batch10/30814501.ann': 1156}\n"
     ]
    }
   ],
   "source": [
    "import os\n",
    "\n",
    "homedir = '/home/compomics/git/Eubic_Dev_hackathon_2025'\n",
    "file_dict = {}\n",
    "\n",
    "# Walk through all subdirectories\n",
    "for root, _, files in os.walk(homedir):\n",
    "    for f in to_annotate:\n",
    "        filename = f + '.ann'\n",
    "        if filename in files:  # Check if the file exists in the current folder\n",
    "            file_path = os.path.join(root, filename)\n",
    "            file_size = os.path.getsize(file_path)\n",
    "            file_dict[file_path] = file_size\n",
    "\n",
    "print(file_dict)  # Output the dictionary\n"
   ]
  },
  {
   "cell_type": "code",
   "execution_count": 43,
   "metadata": {},
   "outputs": [],
   "source": [
    "import pandas as pd\n",
    "df = pd.DataFrame.from_dict(file_dict, orient='index', columns=['File Size'])\n",
    "df.sort_values(by='File Size', ascending=False)\n",
    "df.to_csv('29papers.csv')"
   ]
  },
  {
   "cell_type": "code",
   "execution_count": 44,
   "metadata": {},
   "outputs": [
    {
     "data": {
      "text/plain": [
       "['35121989',\n",
       " '35680998',\n",
       " '35236848',\n",
       " '28675934',\n",
       " '26076430',\n",
       " '28680058',\n",
       " '32860207',\n",
       " '30814501',\n",
       " '31699905',\n",
       " '31395880',\n",
       " '37330510',\n",
       " '35037038',\n",
       " '21183079',\n",
       " '31699904',\n",
       " '29681787',\n",
       " '32284562',\n",
       " '28091603',\n",
       " '37681923',\n",
       " '36097293',\n",
       " '26725330',\n",
       " '26149123',\n",
       " '33855848',\n",
       " '24657495',\n",
       " '37207340',\n",
       " '25100859',\n",
       " '35236989',\n",
       " '25218447',\n",
       " '37328468',\n",
       " '33630598']"
      ]
     },
     "execution_count": 44,
     "metadata": {},
     "output_type": "execute_result"
    }
   ],
   "source": [
    "to_annotate"
   ]
  },
  {
   "cell_type": "code",
   "execution_count": 53,
   "metadata": {},
   "outputs": [
    {
     "name": "stdout",
     "output_type": "stream",
     "text": [
      "File moving complete. 58 files moved.\n"
     ]
    }
   ],
   "source": [
    "# copy all files in /home/compomics/git/Eubic_Dev_hackathon_2025/Combined_all/open_acces with a filename, independent of extension, that occurs in the to_annotate list\n",
    "import os\n",
    "import shutil\n",
    "\n",
    "source_dir = '/home/compomics/git/Eubic_Dev_hackathon_2025/Combined_all/open_access/'\n",
    "destination_dir = '/home/compomics/git/Eubic_Dev_hackathon_2025/Combined_all/journalbasedselection'  # Change to your desired copy location\n",
    "\n",
    "# Check if source directory is accessible\n",
    "if not os.path.exists(source_dir):\n",
    "    print(f\"Error: Source directory '{source_dir}' does not exist.\")\n",
    "    exit(1)\n",
    "if not os.access(source_dir, os.R_OK):\n",
    "    print(f\"Error: No read access to source directory '{source_dir}'.\")\n",
    "    exit(1)\n",
    "\n",
    "# Create destination folder if it doesn't exist\n",
    "os.makedirs(destination_dir, exist_ok=True)\n",
    "\n",
    "# Walk through all subdirectories\n",
    "moved_files = 0\n",
    "for root, _, files in os.walk(source_dir):\n",
    "    for file in files:\n",
    "        filename_without_ext, ext = os.path.splitext(file)  # Split filename and extension\n",
    "        if filename_without_ext in to_annotate and ext in {\".ann\", \".txt\"}:\n",
    "            src_path = os.path.join(root, file)\n",
    "            dest_path = os.path.join(destination_dir, file)\n",
    "            \n",
    "            # Check if file is accessible before moving\n",
    "            if os.access(src_path, os.R_OK):\n",
    "                shutil.move(src_path, dest_path)\n",
    "                moved_files += 1\n",
    "            else:\n",
    "                print(f\"Warning: No read access to '{src_path}', skipping.\")\n",
    "\n",
    "if moved_files == 0:\n",
    "    print(\"No matching files found or moved.\")\n",
    "else:\n",
    "    print(f\"File moving complete. {moved_files} files moved.\")"
   ]
  },
  {
   "cell_type": "code",
   "execution_count": null,
   "metadata": {},
   "outputs": [],
   "source": []
  }
 ],
 "metadata": {
  "kernelspec": {
   "display_name": "reprocessing",
   "language": "python",
   "name": "python3"
  },
  "language_info": {
   "codemirror_mode": {
    "name": "ipython",
    "version": 3
   },
   "file_extension": ".py",
   "mimetype": "text/x-python",
   "name": "python",
   "nbconvert_exporter": "python",
   "pygments_lexer": "ipython3",
   "version": "3.11.4"
  }
 },
 "nbformat": 4,
 "nbformat_minor": 2
}
